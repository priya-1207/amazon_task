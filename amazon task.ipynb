{
 "cells": [
  {
   "cell_type": "code",
   "execution_count": 5,
   "metadata": {},
   "outputs": [],
   "source": [
    "import selenium\n",
    "import os\n",
    "import itertools\n",
    "os.chdir(r'D:\\amazon task')\n"
   ]
  },
  {
   "cell_type": "code",
   "execution_count": 6,
   "metadata": {},
   "outputs": [
    {
     "data": {
      "text/plain": [
       "'D:\\\\amazon task'"
      ]
     },
     "execution_count": 6,
     "metadata": {},
     "output_type": "execute_result"
    }
   ],
   "source": [
    "from selenium import webdriver\n",
    "from selenium.webdriver.support.ui import Select\n",
    "import pandas as pd\n",
    "\n",
    "import time\n",
    "os.getcwd()"
   ]
  },
  {
   "cell_type": "code",
   "execution_count": null,
   "metadata": {},
   "outputs": [],
   "source": []
  },
  {
   "cell_type": "code",
   "execution_count": null,
   "metadata": {},
   "outputs": [],
   "source": []
  },
  {
   "cell_type": "code",
   "execution_count": 8,
   "metadata": {},
   "outputs": [
    {
     "name": "stderr",
     "output_type": "stream",
     "text": [
      "C:\\Users\\ELCOT\\anaconda3\\lib\\site-packages\\xlsxwriter\\workbook.py:329: UserWarning: Calling close() on already closed file.\n",
      "  warn(\"Calling close() on already closed file.\")\n"
     ]
    },
    {
     "data": {
      "text/html": [
       "<div>\n",
       "<style scoped>\n",
       "    .dataframe tbody tr th:only-of-type {\n",
       "        vertical-align: middle;\n",
       "    }\n",
       "\n",
       "    .dataframe tbody tr th {\n",
       "        vertical-align: top;\n",
       "    }\n",
       "\n",
       "    .dataframe thead th {\n",
       "        text-align: right;\n",
       "    }\n",
       "</style>\n",
       "<table border=\"1\" class=\"dataframe\">\n",
       "  <thead>\n",
       "    <tr style=\"text-align: right;\">\n",
       "      <th></th>\n",
       "      <th>Product Name</th>\n",
       "      <th>offer Price</th>\n",
       "      <th>original Price</th>\n",
       "    </tr>\n",
       "  </thead>\n",
       "  <tbody>\n",
       "    <tr>\n",
       "      <th>0</th>\n",
       "      <td>TistaDreamHome Save Money Offer ( Combo Set of...</td>\n",
       "      <td>₹2,299</td>\n",
       "      <td>849</td>\n",
       "    </tr>\n",
       "    <tr>\n",
       "      <th>1</th>\n",
       "      <td>Rajasthani Bed Sheet Cotton Double Bed Offer D...</td>\n",
       "      <td>₹1,999</td>\n",
       "      <td>499</td>\n",
       "    </tr>\n",
       "    <tr>\n",
       "      <th>2</th>\n",
       "      <td>Decorloom Creations Cotton 180TC King Size Dou...</td>\n",
       "      <td>₹1,299</td>\n",
       "      <td>920</td>\n",
       "    </tr>\n",
       "    <tr>\n",
       "      <th>3</th>\n",
       "      <td>BedZone 100% Cotton Comfort King Size Traditio...</td>\n",
       "      <td>₹1,299</td>\n",
       "      <td>497</td>\n",
       "    </tr>\n",
       "    <tr>\n",
       "      <th>4</th>\n",
       "      <td>PRAZER Combo Offer Cotton 2 Printed Double Bed...</td>\n",
       "      <td>₹999</td>\n",
       "      <td>525</td>\n",
       "    </tr>\n",
       "    <tr>\n",
       "      <th>...</th>\n",
       "      <td>...</td>\n",
       "      <td>...</td>\n",
       "      <td>...</td>\n",
       "    </tr>\n",
       "    <tr>\n",
       "      <th>56</th>\n",
       "      <td>Rayna Decor Premium Cotton Soft Satin Weave 20...</td>\n",
       "      <td>₹1,400</td>\n",
       "      <td>799</td>\n",
       "    </tr>\n",
       "    <tr>\n",
       "      <th>57</th>\n",
       "      <td>THE HOME STYLE Cotton Feel Glace Cotton Printe...</td>\n",
       "      <td>₹1,299</td>\n",
       "      <td>699</td>\n",
       "    </tr>\n",
       "    <tr>\n",
       "      <th>58</th>\n",
       "      <td>Amazon Brand - Solimo Kaleidoscope Dreams 144 ...</td>\n",
       "      <td>₹999</td>\n",
       "      <td>570</td>\n",
       "    </tr>\n",
       "    <tr>\n",
       "      <th>59</th>\n",
       "      <td>LINENWALAS 100% Vegan Bamboo Silk Bedsheet Set...</td>\n",
       "      <td>₹2,000</td>\n",
       "      <td>959</td>\n",
       "    </tr>\n",
       "    <tr>\n",
       "      <th>60</th>\n",
       "      <td>NA</td>\n",
       "      <td>₹2,500</td>\n",
       "      <td>1,499</td>\n",
       "    </tr>\n",
       "  </tbody>\n",
       "</table>\n",
       "<p>61 rows × 3 columns</p>\n",
       "</div>"
      ],
      "text/plain": [
       "                                         Product Name offer Price  \\\n",
       "0   TistaDreamHome Save Money Offer ( Combo Set of...      ₹2,299   \n",
       "1   Rajasthani Bed Sheet Cotton Double Bed Offer D...      ₹1,999   \n",
       "2   Decorloom Creations Cotton 180TC King Size Dou...      ₹1,299   \n",
       "3   BedZone 100% Cotton Comfort King Size Traditio...      ₹1,299   \n",
       "4   PRAZER Combo Offer Cotton 2 Printed Double Bed...        ₹999   \n",
       "..                                                ...         ...   \n",
       "56  Rayna Decor Premium Cotton Soft Satin Weave 20...      ₹1,400   \n",
       "57  THE HOME STYLE Cotton Feel Glace Cotton Printe...      ₹1,299   \n",
       "58  Amazon Brand - Solimo Kaleidoscope Dreams 144 ...        ₹999   \n",
       "59  LINENWALAS 100% Vegan Bamboo Silk Bedsheet Set...      ₹2,000   \n",
       "60                                                 NA      ₹2,500   \n",
       "\n",
       "   original Price  \n",
       "0             849  \n",
       "1             499  \n",
       "2             920  \n",
       "3             497  \n",
       "4             525  \n",
       "..            ...  \n",
       "56            799  \n",
       "57            699  \n",
       "58            570  \n",
       "59            959  \n",
       "60          1,499  \n",
       "\n",
       "[61 rows x 3 columns]"
      ]
     },
     "execution_count": 8,
     "metadata": {},
     "output_type": "execute_result"
    }
   ],
   "source": [
    "driverpath=r\"C:\\Users\\ELCOT\\Downloads\\chromedriver_win32\\chromedriver.exe\"\n",
    "driver=webdriver.Chrome(executable_path=driverpath)\n",
    "driver.get(\"https://www.amazon.in/s?k=bed+offer&ref=nb_sb_noss_1\")\n",
    "driver.maximize_window()\n",
    "ProductNames = []\n",
    "offerPrices =[]\n",
    "originalPrices = []\n",
    "Prodname=driver.find_elements_by_xpath(\"//span[contains(text(),'bed offer')]//following::span[contains(@class,'a-size-base-plus a-color-base a-text-normal')]\")\n",
    "offerprice =driver.find_elements_by_xpath(\"//span[contains(text(),'bed offer')]//following::span[contains(@class,'a-price a-text-price')]\")\n",
    "Originalprice =driver.find_elements_by_xpath(\"//span[contains(text(),'bed offer')]//following::span[contains(@class,'a-price-whole')]\")\n",
    "writer = pd.ExcelWriter(r'amazontask.xlsx', engine='xlsxwriter')\n",
    "for j in Prodname:\n",
    "    ProductNames.append(j.text)\n",
    "for k in offerprice:\n",
    "    offerPrices.append(k.text)\n",
    "for l in Originalprice:\n",
    "    originalPrices.append(l.text)\n",
    "df=pd.DataFrame(list(itertools.zip_longest(ProductNames,offerPrices,originalPrices, fillvalue=\"NA\")),columns=[\"Product Name\",\"offer Price\",\"original Price\"])\n",
    "df.to_excel(writer, sheet_name= \"bed_offer.xlsx\", index=False) \n",
    "writer.save()\n",
    "writer.close()\n",
    "driver.close()\n",
    "df\n"
   ]
  },
  {
   "cell_type": "code",
   "execution_count": null,
   "metadata": {},
   "outputs": [],
   "source": []
  }
 ],
 "metadata": {
  "kernelspec": {
   "display_name": "Python 3",
   "language": "python",
   "name": "python3"
  },
  "language_info": {
   "codemirror_mode": {
    "name": "ipython",
    "version": 3
   },
   "file_extension": ".py",
   "mimetype": "text/x-python",
   "name": "python",
   "nbconvert_exporter": "python",
   "pygments_lexer": "ipython3",
   "version": "3.8.5"
  }
 },
 "nbformat": 4,
 "nbformat_minor": 4
}
